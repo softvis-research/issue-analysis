{
 "cells": [
  {
   "cell_type": "markdown",
   "metadata": {},
   "source": [
    "# Text analysis for  hotspot-detection"
   ]
  },
  {
   "cell_type": "markdown",
   "metadata": {},
   "source": [
    "#### Global Task: Components or cross-sectional aspects in the application code, which are particularly frequently affected by bugs/errors "
   ]
  },
  {
   "cell_type": "markdown",
   "metadata": {
    "pycharm": {
     "name": "#%% md\n"
    }
   },
   "source": [
    "## Detection of bugs and errors based on the language"
   ]
  },
  {
   "cell_type": "markdown",
   "source": [
    "#### Based on the language of Github's issue texts, a model is trained to classify issue texts as critical or non-critical"
   ],
   "metadata": {
    "collapsed": false
   }
  },
  {
   "cell_type": "markdown",
   "metadata": {},
   "source": [
    "### 1.import trainings-data from file"
   ]
  },
  {
   "cell_type": "code",
   "execution_count": 11,
   "metadata": {
    "pycharm": {
     "is_executing": false,
     "name": "#%%\n"
    }
   },
   "outputs": [
    {
     "name": "stdout",
     "text": [
      "<bound method DataFrame.isna of     entity                                              title  \\\n",
      "0     node                            fixed typo in README.md   \n",
      "1     node  ** does not include files in the current direc...   \n",
      "2     node                           fixed typos and spacings   \n",
      "3     node  Docker: ERROR: Copybara config file filename s...   \n",
      "4     node  Issue VACCUM SQL directive to prevent the DB f...   \n",
      "..     ...                                                ...   \n",
      "511   node  Create bug report and feature request issue te...   \n",
      "512   node                             cannot resolve method.   \n",
      "513   node  classCastException android.graphics.drawable.c...   \n",
      "514   node                      Fix path in integration tests   \n",
      "515   node  MaterialListViewAdapter.getItemViewType error,...   \n",
      "\n",
      "                                                  body  class  \\\n",
      "0    I changed the line \"to create a executable ube...      1   \n",
      "1    It would be great if its behavior matched that...      1   \n",
      "2              fixed typos and spacings in `README.md`      1   \n",
      "3    In README.md\\r\\n> A few environment variables ...      1   \n",
      "4    This is a re-patch of 69a69977470dc0b6c0cbccd1...      1   \n",
      "..                                                 ...    ...   \n",
      "511  Many historic GitHub issues have shown that us...      1   \n",
      "512  Hello, thanks for this great library.\\n\\nI wou...      1   \n",
      "513  app crashes at cardView.setBackgroundColor(car...      1   \n",
      "514                                          Fixes #51      1   \n",
      "515  this method return -1 , so i got this error \\n...      1   \n",
      "\n",
      "                                             full_body  \n",
      "0    line create executable create executable word ...  \n",
      "1    would great behavior build prominently include...  \n",
      "2                                          fixed fixed  \n",
      "3    environment exist allow change run copy bara s...  \n",
      "4    patch baa added pull request issue directive p...  \n",
      "..                                                 ...  \n",
      "511  many historic shown tend unaware repository fo...  \n",
      "512  hello thanks great library would like request ...  \n",
      "513  card android graphics drawable cast android su...  \n",
      "514                               fix path integration  \n",
      "515  method return got error unable start activity ...  \n",
      "\n",
      "[516 rows x 5 columns]>\n"
     ],
     "output_type": "stream"
    }
   ],
   "source": [
    "import pandas as pd\n",
    "from sklearn import svm\n",
    "from sklearn.metrics import accuracy_score\n",
    "from sklearn.model_selection import train_test_split\n",
    "from sklearn.naive_bayes import MultinomialNB\n",
    "\n",
    "\n",
    "df= pd.read_csv('training.csv')\n",
    "df=df.dropna()"
   ]
  },
  {
   "cell_type": "code",
   "execution_count": 13,
   "metadata": {
    "pycharm": {
     "is_executing": false,
     "name": "#%%\n"
    }
   },
   "outputs": [
    {
     "data": {
      "text/plain": "  entity                                              title  \\\n0   node                            fixed typo in README.md   \n1   node  ** does not include files in the current direc...   \n2   node                           fixed typos and spacings   \n3   node  Docker: ERROR: Copybara config file filename s...   \n4   node  Issue VACCUM SQL directive to prevent the DB f...   \n5   node  Fix Issue 100: first card in list can never be...   \n6   node  Changes are package protected and can't easily...   \n7   node                              Exception on rotation   \n8   node         BugFix, Resource-ID, ListCard, Abstraction   \n9   node                  Unable to run coursier on Windows   \n\n                                                body  class  \\\n0  I changed the line \"to create a executable ube...      1   \n1  It would be great if its behavior matched that...      1   \n2            fixed typos and spacings in `README.md`      1   \n3  In README.md\\r\\n> A few environment variables ...      1   \n4  This is a re-patch of 69a69977470dc0b6c0cbccd1...      1   \n5                                            Thanks.      1   \n6  #5 helped with exposing Info programatically b...      1   \n7  When I rotate my device I received the followi...      1   \n8  - I maybe fixed the Bug (#22). This should be ...      1   \n9  After installing JDK8 and running the first ba...      1   \n\n                                           full_body  \n0  line create executable create executable word ...  \n1  would great behavior build prominently include...  \n2                                        fixed fixed  \n3  environment exist allow change run copy bara s...  \n4  patch baa added pull request issue directive p...  \n5             thanks fix issue first card list never  \n6  found tried use package also package package e...  \n7  rotate device received following exception pro...  \n8  maybe fixed bug tested able reproduce exceptio...  \n9  running first build command get call stack def...  ",
      "text/html": "<div>\n<style scoped>\n    .dataframe tbody tr th:only-of-type {\n        vertical-align: middle;\n    }\n\n    .dataframe tbody tr th {\n        vertical-align: top;\n    }\n\n    .dataframe thead th {\n        text-align: right;\n    }\n</style>\n<table border=\"1\" class=\"dataframe\">\n  <thead>\n    <tr style=\"text-align: right;\">\n      <th></th>\n      <th>entity</th>\n      <th>title</th>\n      <th>body</th>\n      <th>class</th>\n      <th>full_body</th>\n    </tr>\n  </thead>\n  <tbody>\n    <tr>\n      <th>0</th>\n      <td>node</td>\n      <td>fixed typo in README.md</td>\n      <td>I changed the line \"to create a executable ube...</td>\n      <td>1</td>\n      <td>line create executable create executable word ...</td>\n    </tr>\n    <tr>\n      <th>1</th>\n      <td>node</td>\n      <td>** does not include files in the current direc...</td>\n      <td>It would be great if its behavior matched that...</td>\n      <td>1</td>\n      <td>would great behavior build prominently include...</td>\n    </tr>\n    <tr>\n      <th>2</th>\n      <td>node</td>\n      <td>fixed typos and spacings</td>\n      <td>fixed typos and spacings in `README.md`</td>\n      <td>1</td>\n      <td>fixed fixed</td>\n    </tr>\n    <tr>\n      <th>3</th>\n      <td>node</td>\n      <td>Docker: ERROR: Copybara config file filename s...</td>\n      <td>In README.md\\r\\n&gt; A few environment variables ...</td>\n      <td>1</td>\n      <td>environment exist allow change run copy bara s...</td>\n    </tr>\n    <tr>\n      <th>4</th>\n      <td>node</td>\n      <td>Issue VACCUM SQL directive to prevent the DB f...</td>\n      <td>This is a re-patch of 69a69977470dc0b6c0cbccd1...</td>\n      <td>1</td>\n      <td>patch baa added pull request issue directive p...</td>\n    </tr>\n    <tr>\n      <th>5</th>\n      <td>node</td>\n      <td>Fix Issue 100: first card in list can never be...</td>\n      <td>Thanks.</td>\n      <td>1</td>\n      <td>thanks fix issue first card list never</td>\n    </tr>\n    <tr>\n      <th>6</th>\n      <td>node</td>\n      <td>Changes are package protected and can't easily...</td>\n      <td>#5 helped with exposing Info programatically b...</td>\n      <td>1</td>\n      <td>found tried use package also package package e...</td>\n    </tr>\n    <tr>\n      <th>7</th>\n      <td>node</td>\n      <td>Exception on rotation</td>\n      <td>When I rotate my device I received the followi...</td>\n      <td>1</td>\n      <td>rotate device received following exception pro...</td>\n    </tr>\n    <tr>\n      <th>8</th>\n      <td>node</td>\n      <td>BugFix, Resource-ID, ListCard, Abstraction</td>\n      <td>- I maybe fixed the Bug (#22). This should be ...</td>\n      <td>1</td>\n      <td>maybe fixed bug tested able reproduce exceptio...</td>\n    </tr>\n    <tr>\n      <th>9</th>\n      <td>node</td>\n      <td>Unable to run coursier on Windows</td>\n      <td>After installing JDK8 and running the first ba...</td>\n      <td>1</td>\n      <td>running first build command get call stack def...</td>\n    </tr>\n  </tbody>\n</table>\n</div>"
     },
     "metadata": {},
     "output_type": "execute_result",
     "execution_count": 13
    }
   ],
   "source": [
    "df.head(5)"
   ]
  },
  {
   "cell_type": "markdown",
   "metadata": {},
   "source": [
    "### 2.Create tf_idf_Vector"
   ]
  },
  {
   "cell_type": "code",
   "execution_count": 14,
   "metadata": {
    "pycharm": {
     "is_executing": false,
     "name": "#%%\n"
    }
   },
   "outputs": [],
   "source": [
    "\n",
    "from sklearn.feature_extraction.text import TfidfVectorizer\n",
    "vocab= \"fix  bug  errors  no  bug error  Fix ERROR unable failed broken issue Issue Bug Error issues throw Throw problem Unable issue error removing unable throw exception problem bug unable incorrect fail Opening from other integration tests fail \".split()\n",
    "\n",
    "#create a unique list\n",
    "myset = set(vocab)\n",
    "vocab = list(myset)\n",
    "\n",
    "tfidfconverter = TfidfVectorizer( max_features=500,vocabulary=vocab)"
   ]
  },
  {
   "cell_type": "markdown",
   "metadata": {},
   "source": [
    "### 3.Create Trainingsset"
   ]
  },
  {
   "cell_type": "code",
   "execution_count": 15,
   "metadata": {
    "pycharm": {
     "is_executing": false,
     "name": "#%%\n"
    }
   },
   "outputs": [],
   "source": [
    "X = tfidfconverter.fit_transform(df['full_body']).toarray()\n",
    "y = df[\"class\"].to_numpy()\n",
    "\n",
    "#\n",
    "X_train, X_test, y_train, y_test = train_test_split(X, y, test_size=0.2, random_state=21)"
   ]
  },
  {
   "cell_type": "markdown",
   "metadata": {},
   "source": [
    "### 4.Create two Classificator\n",
    "\n",
    "#### Bayes Classifier"
   ]
  },
  {
   "cell_type": "code",
   "execution_count": 16,
   "metadata": {
    "pycharm": {
     "is_executing": false,
     "name": "#%%\n"
    }
   },
   "outputs": [],
   "source": [
    "# Klassifikator trainieren und testen\n",
    "classifier = MultinomialNB()\n",
    "classifier.fit(X_train, y_train)\n",
    "y_pred = classifier.predict(X_test)"
   ]
  },
  {
   "cell_type": "markdown",
   "metadata": {},
   "source": [
    "#### Support Vector Machine"
   ]
  },
  {
   "cell_type": "code",
   "execution_count": 17,
   "metadata": {
    "pycharm": {
     "is_executing": false,
     "name": "#%% \n"
    }
   },
   "outputs": [
    {
     "data": {
      "text/plain": "SVC(C=1.0, cache_size=200, class_weight=None, coef0=0.0,\n    decision_function_shape='ovr', degree=3, gamma='auto', kernel='linear',\n    max_iter=-1, probability=False, random_state=None, shrinking=True,\n    tol=0.001, verbose=False)"
     },
     "metadata": {},
     "output_type": "execute_result",
     "execution_count": 17
    }
   ],
   "source": [
    "# Classifier - Algorithm - SVM\n",
    "# fit the training dataset on the classifier\n",
    "# SVM attributes can be customized\n",
    "SVM = svm.SVC(C=1.0, kernel='linear', degree=3, gamma='auto')\n",
    "SVM.fit(X_train,y_train)"
   ]
  },
  {
   "cell_type": "markdown",
   "metadata": {},
   "source": [
    "### 5. Predict and test\n",
    "\n",
    "Finding the best model"
   ]
  },
  {
   "cell_type": "markdown",
   "metadata": {},
   "source": [
    "####  SVM Score"
   ]
  },
  {
   "cell_type": "code",
   "execution_count": 18,
   "metadata": {
    "pycharm": {
     "is_executing": false,
     "name": "#%%\n"
    }
   },
   "outputs": [
    {
     "name": "stdout",
     "text": [
      "SVM Accuracy Score ->  71.84466019417476\n"
     ],
     "output_type": "stream"
    }
   ],
   "source": [
    "predictions_SVM = SVM.predict(X_test)\n",
    "print(\"SVM Accuracy Score -> \",accuracy_score(predictions_SVM, y_test)*100)"
   ]
  },
  {
   "cell_type": "markdown",
   "metadata": {},
   "source": [
    "#### Bayes Score"
   ]
  },
  {
   "cell_type": "code",
   "execution_count": 19,
   "metadata": {
    "pycharm": {
     "is_executing": false,
     "name": "#%% \n"
    }
   },
   "outputs": [
    {
     "name": "stdout",
     "text": [
      "Bayes Accuracy Score ->  67.96116504854369\n"
     ],
     "output_type": "stream"
    }
   ],
   "source": [
    "# Vorhersage-Genauigkeit auswerten\n",
    "print(\"Bayes Accuracy Score -> \",accuracy_score(y_test, y_pred)*100)\n"
   ]
  },
  {
   "cell_type": "markdown",
   "metadata": {},
   "source": [
    "### 6. Safe best model"
   ]
  },
  {
   "cell_type": "code",
   "execution_count": 20,
   "metadata": {
    "pycharm": {
     "is_executing": false,
     "name": "#%% \n"
    }
   },
   "outputs": [],
   "source": [
    "import pickle\n",
    "\n",
    "filename = 'model_svm.sav'\n",
    "filename_tfidf='tf_idf.sav'\n",
    "\n",
    "# model safe"
   ]
  },
  {
   "cell_type": "markdown",
   "source": [
    "#### Uncommend to safe files"
   ],
   "metadata": {
    "collapsed": false
   }
  },
  {
   "cell_type": "code",
   "execution_count": null,
   "outputs": [],
   "source": [
    "#pickle.dump(SVM, open(filename, 'wb'))\n",
    "#pickle.dump(tfidfconverter, open(filename_tfidf, 'wb'))\n",
    "\n",
    "\n",
    "\n"
   ],
   "metadata": {
    "collapsed": false,
    "pycharm": {
     "name": "#%%\n"
    }
   }
  }
 ],
 "metadata": {
  "kernelspec": {
   "display_name": "Python 3",
   "language": "python",
   "name": "python3"
  },
  "language_info": {
   "codemirror_mode": {
    "name": "ipython",
    "version": 3
   },
   "file_extension": ".py",
   "mimetype": "text/x-python",
   "name": "python",
   "nbconvert_exporter": "python",
   "pygments_lexer": "ipython3",
   "version": "3.7.4"
  },
  "pycharm": {
   "stem_cell": {
    "cell_type": "raw",
    "source": [],
    "metadata": {
     "collapsed": false
    }
   }
  }
 },
 "nbformat": 4,
 "nbformat_minor": 1
}