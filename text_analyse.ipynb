{
 "cells": [
  {
   "cell_type": "markdown",
   "metadata": {},
   "source": [
    "# Text analysis for future hotspot detection"
   ]
  },
  {
   "cell_type": "markdown",
   "metadata": {},
   "source": [
    "Global Task: Components or cross-sectional aspects in the application code, which are particularly frequently affected by bug fixes?"
   ]
  },
  {
   "cell_type": "markdown",
   "source": [
    "## Detection of bugs and errors based on the language\n",
    "\n"
   ],
   "metadata": {
    "collapsed": false,
    "pycharm": {
     "name": "#%% md\n"
    }
   }
  },
  {
   "cell_type": "markdown",
   "metadata": {
    "pycharm": {
     "is_executing": false,
     "name": "#%% md \n"
    }
   },
   "source": [
    "### 1.import data from neo4j"
   ]
  },
  {
   "cell_type": "code",
   "execution_count": 1,
   "metadata": {
    "pycharm": {
     "is_executing": false,
     "name": "#%%\n"
    }
   },
   "outputs": [],
   "source": [
    "import py2neo\n",
    "\n",
    "graph = py2neo.Graph(bolt=True, host='localhost', user='neo4j', password='neo4j')"
   ]
  },
  {
   "cell_type": "markdown",
   "metadata": {
    "pycharm": {
     "name": "#%% md\n"
    }
   },
   "source": [
    "### 2. cypher query for some body and title data"
   ]
  },
  {
   "cell_type": "code",
   "execution_count": 2,
   "metadata": {
    "pycharm": {
     "is_executing": false,
     "name": "#%%\n"
    }
   },
   "outputs": [],
   "source": [
    "import pandas as pd\n",
    "\n",
    "query =\"MATCH (i:Issue)WHERE Not(i:Issue)-[:HAS_LABEL]->() RETURN i.title as title, i.body As body\"\n",
    "df = pd.DataFrame(graph.run(query).data())"
   ]
  },
  {
   "cell_type": "code",
   "execution_count": 3,
   "metadata": {
    "pycharm": {
     "name": "#%%\n",
     "is_executing": false
    }
   },
   "outputs": [
    {
     "data": {
      "text/plain": "                                               title  \\\n0                                           Timeout    \n1  insufficient client permissions which (at leas...   \n2                [DEBUG] Random Socket Read Time Out   \n3                            Connect to Server Issue   \n4                                        TextMessage   \n5   Missing Permissions Log require wrong Permission   \n6                                              Voice   \n7                          Moved by ClientMovedEvent   \n8                                     Event Priority   \n9              Virus found in teamspeak3-javadoc.jar   \n\n                                                body  \n0  I have this Error\\n\\n2019-05-26 20:46:06.007 [...  \n1  Exception in thread \"main\" com.github.theholyw...  \n2  After a long uptime of my bot I get a random:\\...  \n3  Hey, I just cloned your repo and compiled myse...  \n4  Hey,\\nif i try to send a message to the bot, t...  \n5  Hey guys, \\nI tried to join an Teamspeak Serve...  \n6  I want to make real Voice, its mean you only c...  \n7  Is there any way, to geht how moved the client...  \n8  Is ther an system, whitch Event ist first call...  \n9  So i wanted to download the javadoc because i ...  ",
      "text/html": "<div>\n<style scoped>\n    .dataframe tbody tr th:only-of-type {\n        vertical-align: middle;\n    }\n\n    .dataframe tbody tr th {\n        vertical-align: top;\n    }\n\n    .dataframe thead th {\n        text-align: right;\n    }\n</style>\n<table border=\"1\" class=\"dataframe\">\n  <thead>\n    <tr style=\"text-align: right;\">\n      <th></th>\n      <th>title</th>\n      <th>body</th>\n    </tr>\n  </thead>\n  <tbody>\n    <tr>\n      <td>0</td>\n      <td>Timeout</td>\n      <td>I have this Error\\n\\n2019-05-26 20:46:06.007 [...</td>\n    </tr>\n    <tr>\n      <td>1</td>\n      <td>insufficient client permissions which (at leas...</td>\n      <td>Exception in thread \"main\" com.github.theholyw...</td>\n    </tr>\n    <tr>\n      <td>2</td>\n      <td>[DEBUG] Random Socket Read Time Out</td>\n      <td>After a long uptime of my bot I get a random:\\...</td>\n    </tr>\n    <tr>\n      <td>3</td>\n      <td>Connect to Server Issue</td>\n      <td>Hey, I just cloned your repo and compiled myse...</td>\n    </tr>\n    <tr>\n      <td>4</td>\n      <td>TextMessage</td>\n      <td>Hey,\\nif i try to send a message to the bot, t...</td>\n    </tr>\n    <tr>\n      <td>5</td>\n      <td>Missing Permissions Log require wrong Permission</td>\n      <td>Hey guys, \\nI tried to join an Teamspeak Serve...</td>\n    </tr>\n    <tr>\n      <td>6</td>\n      <td>Voice</td>\n      <td>I want to make real Voice, its mean you only c...</td>\n    </tr>\n    <tr>\n      <td>7</td>\n      <td>Moved by ClientMovedEvent</td>\n      <td>Is there any way, to geht how moved the client...</td>\n    </tr>\n    <tr>\n      <td>8</td>\n      <td>Event Priority</td>\n      <td>Is ther an system, whitch Event ist first call...</td>\n    </tr>\n    <tr>\n      <td>9</td>\n      <td>Virus found in teamspeak3-javadoc.jar</td>\n      <td>So i wanted to download the javadoc because i ...</td>\n    </tr>\n  </tbody>\n</table>\n</div>"
     },
     "metadata": {},
     "output_type": "execute_result",
     "execution_count": 3
    }
   ],
   "source": [
    "pd.set_option('display.max_columns', None)\n",
    "pd.set_option('display.max_rows', None)\n",
    "df.head(10)\n"
   ]
  },
  {
   "cell_type": "code",
   "execution_count": 4,
   "metadata": {
    "pycharm": {
     "is_executing": false
    }
   },
   "outputs": [
    {
     "name": "stderr",
     "text": [
      "[nltk_data] Downloading package stopwords to\n",
      "[nltk_data]     C:\\Users\\Fabian\\AppData\\Roaming\\nltk_data...\n",
      "[nltk_data]   Package stopwords is already up-to-date!\n",
      "[nltk_data] Downloading package punkt to\n",
      "[nltk_data]     C:\\Users\\Fabian\\AppData\\Roaming\\nltk_data...\n",
      "[nltk_data]   Package punkt is already up-to-date!\n"
     ],
     "output_type": "stream"
    }
   ],
   "source": [
    "#import Processing.PreProcessing as p\n",
    "\n",
    "#df[\"body\"]=df[\"body\"].apply(lambda x: p.formate_text_bayes(x))\n",
    "#body=''.join(df[\"i.body\"].to_list())\n",
    "#body=body.apply(p.formate_text_bayes(body))\n",
    "#result= p.formate_text_bayes(body)"
   ]
  },
  {
   "cell_type": "markdown",
   "source": [
    "### Preprocessing data"
   ],
   "metadata": {
    "collapsed": false,
    "pycharm": {
     "name": "#%% md\n",
     "is_executing": false
    }
   }
  },
  {
   "cell_type": "code",
   "execution_count": 5,
   "outputs": [],
   "source": [
    "import Processing.PreProcessing as p\n",
    "\n",
    "# ersetzen durch nur formate text !!!\n",
    "df[\"body\"]=df[\"body\"].apply(lambda x: p.preprocess(x))\n"
   ],
   "metadata": {
    "collapsed": false,
    "pycharm": {
     "name": "#%%\n",
     "is_executing": false
    }
   }
  },
  {
   "cell_type": "markdown",
   "source": [
    "## Classification\n"
   ],
   "metadata": {
    "collapsed": false
   }
  },
  {
   "cell_type": "code",
   "execution_count": null,
   "outputs": [],
   "source": [
    "\"\"\"\n",
    "from sklearn.preprocessing import LabelEncoder\n",
    "from sklearn.feature_extraction.text import CountVectorizer\n",
    "from sklearn.naive_bayes import MultinomialNB\n",
    "from sklearn.model_selection import train_test_split\n",
    "from sklearn.metrics import accuracy_score, confusion_matrix\n",
    "\n",
    "\n",
    "\n",
    "y = encoder.fit_transform(persons)\n",
    "# Bag of Words der Reden extrahieren\n",
    "vectorizer = CountVectorizer(binary=True)\n",
    "X = vectorizer.fit_transform(speeches).toarray()\n",
    "# Daten aufteilen für Training und Test\n",
    "X_train, X_test, y_train, y_test = train_test_split(X,y, test_size=0.3)\n",
    "# Klassifikator trainieren und testen\n",
    "classifier = MultinomialNB()\n",
    "classifier.fit(X_train, y_train)\n",
    "y_pred = classifier.predict(X_test)\n",
    "# Vorhersage-Genauigkeit auswerten\n",
    "print(accuracy_score(y_test, y_pred))\n",
    "\n",
    "\"\"\""
   ],
   "metadata": {
    "collapsed": false,
    "pycharm": {
     "name": "#%%\n"
    }
   }
  }
 ],
 "metadata": {
  "kernelspec": {
   "display_name": "Python 3",
   "language": "python",
   "name": "python3"
  },
  "language_info": {
   "codemirror_mode": {
    "name": "ipython",
    "version": 3
   },
   "file_extension": ".py",
   "mimetype": "text/x-python",
   "name": "python",
   "nbconvert_exporter": "python",
   "pygments_lexer": "ipython3",
   "version": "3.7.4"
  },
  "pycharm": {
   "stem_cell": {
    "cell_type": "raw",
    "source": [],
    "metadata": {
     "collapsed": false
    }
   }
  }
 },
 "nbformat": 4,
 "nbformat_minor": 1
}