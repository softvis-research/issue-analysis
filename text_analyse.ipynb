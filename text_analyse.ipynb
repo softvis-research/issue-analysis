{
 "cells": [
  {
   "cell_type": "markdown",
   "metadata": {},
   "source": [
    "# Text analysis for  hotspot-detection"
   ]
  },
  {
   "cell_type": "markdown",
   "metadata": {},
   "source": [
    "#### Global Task:  Search for components or cross-sectional aspects in the application code, which are particularly frequently affected by bugs/errors. "
   ]
  },
  {
   "cell_type": "markdown",
   "metadata": {
    "pycharm": {
     "name": "#%% md\n"
    }
   },
   "source": [
    "## Detection of bugs and errors based on the issue-language"
   ]
  },
  {
   "cell_type": "markdown",
   "source": [
    "#### Based on the language of Github's issue texts, a model is trained to classify issue texts as critical or non-critical"
   ],
   "metadata": {
    "collapsed": false
   }
  },
  {
   "cell_type": "markdown",
   "metadata": {},
   "source": [
    "### 1.Import training data from csv-file"
   ]
  },
  {
   "cell_type": "code",
   "execution_count": 21,
   "metadata": {
    "pycharm": {
     "is_executing": false,
     "name": "#%%\n"
    }
   },
   "outputs": [
    {
     "data": {
      "text/plain": "  entity                                              title  \\\n0   node                            fixed typo in README.md   \n1   node  ** does not include files in the current direc...   \n2   node                           fixed typos and spacings   \n3   node  Docker: ERROR: Copybara config file filename s...   \n4   node  Issue VACCUM SQL directive to prevent the DB f...   \n\n                                                body  class  \\\n0  I changed the line \"to create a executable ube...      1   \n1  It would be great if its behavior matched that...      1   \n2            fixed typos and spacings in `README.md`      1   \n3  In README.md\\r\\n> A few environment variables ...      1   \n4  This is a re-patch of 69a69977470dc0b6c0cbccd1...      1   \n\n                                           full_body  \n0  line create executable create executable word ...  \n1  would great behavior build prominently include...  \n2                                        fixed fixed  \n3  environment exist allow change run copy bara s...  \n4  patch baa added pull request issue directive p...  ",
      "text/html": "<div>\n<style scoped>\n    .dataframe tbody tr th:only-of-type {\n        vertical-align: middle;\n    }\n\n    .dataframe tbody tr th {\n        vertical-align: top;\n    }\n\n    .dataframe thead th {\n        text-align: right;\n    }\n</style>\n<table border=\"1\" class=\"dataframe\">\n  <thead>\n    <tr style=\"text-align: right;\">\n      <th></th>\n      <th>entity</th>\n      <th>title</th>\n      <th>body</th>\n      <th>class</th>\n      <th>full_body</th>\n    </tr>\n  </thead>\n  <tbody>\n    <tr>\n      <th>0</th>\n      <td>node</td>\n      <td>fixed typo in README.md</td>\n      <td>I changed the line \"to create a executable ube...</td>\n      <td>1</td>\n      <td>line create executable create executable word ...</td>\n    </tr>\n    <tr>\n      <th>1</th>\n      <td>node</td>\n      <td>** does not include files in the current direc...</td>\n      <td>It would be great if its behavior matched that...</td>\n      <td>1</td>\n      <td>would great behavior build prominently include...</td>\n    </tr>\n    <tr>\n      <th>2</th>\n      <td>node</td>\n      <td>fixed typos and spacings</td>\n      <td>fixed typos and spacings in `README.md`</td>\n      <td>1</td>\n      <td>fixed fixed</td>\n    </tr>\n    <tr>\n      <th>3</th>\n      <td>node</td>\n      <td>Docker: ERROR: Copybara config file filename s...</td>\n      <td>In README.md\\r\\n&gt; A few environment variables ...</td>\n      <td>1</td>\n      <td>environment exist allow change run copy bara s...</td>\n    </tr>\n    <tr>\n      <th>4</th>\n      <td>node</td>\n      <td>Issue VACCUM SQL directive to prevent the DB f...</td>\n      <td>This is a re-patch of 69a69977470dc0b6c0cbccd1...</td>\n      <td>1</td>\n      <td>patch baa added pull request issue directive p...</td>\n    </tr>\n  </tbody>\n</table>\n</div>"
     },
     "metadata": {},
     "output_type": "execute_result",
     "execution_count": 21
    }
   ],
   "source": [
    "import pandas as pd\n",
    "from sklearn import svm\n",
    "from sklearn.metrics import accuracy_score\n",
    "from sklearn.model_selection import train_test_split\n",
    "from sklearn.naive_bayes import MultinomialNB\n",
    "\n",
    "\n",
    "df= pd.read_csv('training.csv')\n",
    "df=df.dropna()\n",
    "df.head(5)"
   ]
  },
  {
   "cell_type": "markdown",
   "metadata": {},
   "source": [
    "### 2.Create tf_idf_vector\n"
   ]
  },
  {
   "cell_type": "code",
   "execution_count": 22,
   "metadata": {
    "pycharm": {
     "is_executing": false,
     "name": "#%%\n"
    }
   },
   "outputs": [],
   "source": [
    "\n",
    "from sklearn.feature_extraction.text import TfidfVectorizer\n",
    "vocab= \"fix  bug  errors  no  bug error  Fix ERROR unable failed broken issue Issue Bug Error issues throw Throw problem Unable issue error removing unable throw exception problem bug unable incorrect fail Opening from other integration tests fail \".split()\n",
    "\n",
    "#create a unique list\n",
    "myset = set(vocab)\n",
    "vocab = list(myset)\n",
    "\n",
    "tfidfconverter = TfidfVectorizer( max_features=500,vocabulary=vocab)"
   ]
  },
  {
   "cell_type": "markdown",
   "metadata": {},
   "source": [
    "### 3.Generate training set"
   ]
  },
  {
   "cell_type": "code",
   "execution_count": 23,
   "metadata": {
    "pycharm": {
     "is_executing": false,
     "name": "#%%\n"
    }
   },
   "outputs": [],
   "source": [
    "X = tfidfconverter.fit_transform(df['full_body']).toarray()\n",
    "y = df[\"class\"].to_numpy()\n",
    "\n",
    "#\n",
    "X_train, X_test, y_train, y_test = train_test_split(X, y, test_size=0.2, random_state=21)"
   ]
  },
  {
   "cell_type": "markdown",
   "metadata": {},
   "source": [
    "### 4. Create two classifiers\n",
    "\n",
    "#### Bayes Classifier"
   ]
  },
  {
   "cell_type": "code",
   "execution_count": 24,
   "metadata": {
    "pycharm": {
     "is_executing": false,
     "name": "#%%\n"
    }
   },
   "outputs": [],
   "source": [
    "# Klassifikator trainieren und testen\n",
    "classifier = MultinomialNB()\n",
    "classifier.fit(X_train, y_train)\n",
    "y_pred = classifier.predict(X_test)"
   ]
  },
  {
   "cell_type": "markdown",
   "metadata": {},
   "source": [
    "#### Support Vector Machine"
   ]
  },
  {
   "cell_type": "code",
   "execution_count": 25,
   "metadata": {
    "pycharm": {
     "is_executing": false,
     "name": "#%% \n"
    }
   },
   "outputs": [
    {
     "data": {
      "text/plain": "SVC(C=1.0, cache_size=200, class_weight=None, coef0=0.0,\n    decision_function_shape='ovr', degree=3, gamma='auto', kernel='linear',\n    max_iter=-1, probability=False, random_state=None, shrinking=True,\n    tol=0.001, verbose=False)"
     },
     "metadata": {},
     "output_type": "execute_result",
     "execution_count": 25
    }
   ],
   "source": [
    "# Classifier - Algorithm - SVM\n",
    "# fit the training dataset on the classifier\n",
    "# SVM attributes can be customized\n",
    "SVM = svm.SVC(C=1.0, kernel='linear', degree=3, gamma='auto')\n",
    "SVM.fit(X_train,y_train)"
   ]
  },
  {
   "cell_type": "markdown",
   "metadata": {},
   "source": [
    "### 5. Predict and test\n",
    "\n",
    "##### Find the best model"
   ]
  },
  {
   "cell_type": "markdown",
   "metadata": {},
   "source": [
    "####  SVM Score"
   ]
  },
  {
   "cell_type": "code",
   "execution_count": 26,
   "metadata": {
    "pycharm": {
     "is_executing": false,
     "name": "#%%\n"
    }
   },
   "outputs": [
    {
     "name": "stdout",
     "text": [
      "SVM Accuracy Score ->  71.84466019417476\n"
     ],
     "output_type": "stream"
    }
   ],
   "source": [
    "predictions_SVM = SVM.predict(X_test)\n",
    "print(\"SVM Accuracy Score -> \",accuracy_score(predictions_SVM, y_test)*100)"
   ]
  },
  {
   "cell_type": "markdown",
   "metadata": {},
   "source": [
    "#### Bayes Score"
   ]
  },
  {
   "cell_type": "code",
   "execution_count": 27,
   "metadata": {
    "pycharm": {
     "is_executing": false,
     "name": "#%% \n"
    }
   },
   "outputs": [
    {
     "name": "stdout",
     "text": [
      "Bayes Accuracy Score ->  67.96116504854369\n"
     ],
     "output_type": "stream"
    }
   ],
   "source": [
    "# Vorhersage-Genauigkeit auswerten\n",
    "print(\"Bayes Accuracy Score -> \",accuracy_score(y_test, y_pred)*100)\n"
   ]
  },
  {
   "cell_type": "markdown",
   "metadata": {},
   "source": [
    "### 6. Safe the best model"
   ]
  },
  {
   "cell_type": "code",
   "execution_count": 28,
   "metadata": {
    "pycharm": {
     "is_executing": false,
     "name": "#%% \n"
    }
   },
   "outputs": [],
   "source": [
    "import pickle\n",
    "\n",
    "filename = 'model_svm.sav'\n",
    "filename_tfidf='tf_idf.sav'\n",
    "\n",
    "# model safe"
   ]
  },
  {
   "cell_type": "markdown",
   "source": [
    "#### uncomment to safe files"
   ],
   "metadata": {
    "collapsed": false
   }
  },
  {
   "cell_type": "code",
   "execution_count": 29,
   "outputs": [],
   "source": [
    "#pickle.dump(SVM, open(filename, 'wb'))\n",
    "#pickle.dump(tfidfconverter, open(filename_tfidf, 'wb'))\n",
    "\n",
    "\n",
    "\n"
   ],
   "metadata": {
    "collapsed": false,
    "pycharm": {
     "name": "#%%\n",
     "is_executing": false
    }
   }
  }
 ],
 "metadata": {
  "kernelspec": {
   "display_name": "Python 3",
   "language": "python",
   "name": "python3"
  },
  "language_info": {
   "codemirror_mode": {
    "name": "ipython",
    "version": 3
   },
   "file_extension": ".py",
   "mimetype": "text/x-python",
   "name": "python",
   "nbconvert_exporter": "python",
   "pygments_lexer": "ipython3",
   "version": "3.7.4"
  },
  "pycharm": {
   "stem_cell": {
    "cell_type": "raw",
    "source": [],
    "metadata": {
     "collapsed": false
    }
   }
  }
 },
 "nbformat": 4,
 "nbformat_minor": 1
}